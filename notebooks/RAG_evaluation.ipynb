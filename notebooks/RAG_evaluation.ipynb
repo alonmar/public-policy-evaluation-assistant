{
 "cells": [
  {
   "cell_type": "code",
   "execution_count": 9,
   "metadata": {},
   "outputs": [],
   "source": [
    "from sentence_transformers import SentenceTransformer\n",
    "from elasticsearch import Elasticsearch\n",
    "from dotenv import load_dotenv\n",
    "from transformers import (\n",
    "    pipeline,\n",
    "    AutoTokenizer,\n",
    "    AutoModelForCausalLM,\n",
    ")\n",
    "import json\n",
    "import os\n",
    "\n",
    "from tqdm.auto import tqdm\n",
    "import time\n",
    "import torch\n",
    "import pandas as pd"
   ]
  },
  {
   "cell_type": "code",
   "execution_count": 10,
   "metadata": {},
   "outputs": [],
   "source": [
    "load_dotenv()\n",
    "\n",
    "\n",
    "HUGGINGFACE_API = os.getenv(\"HUGGINGFACE_API\")\n",
    "model_transformer = \"all-MiniLM-L6-v2\""
   ]
  },
  {
   "cell_type": "code",
   "execution_count": 11,
   "metadata": {},
   "outputs": [],
   "source": [
    "def read_json(file_path):\n",
    "    with open(file_path, \"r\", encoding=\"utf-8\") as f:\n",
    "        data = json.load(f)\n",
    "    return data\n",
    "\n",
    "\n",
    "def load_mode(model_name):\n",
    "    print(f\"Loading model: {model_name}\")\n",
    "    return SentenceTransformer(model_name)\n",
    "\n",
    "\n",
    "def fetch_documents():\n",
    "    print(\"Fetching documents...\")\n",
    "\n",
    "    directory_path = \"../json_data\"\n",
    "\n",
    "    # List all files in the directory\n",
    "    files = os.listdir(directory_path)\n",
    "\n",
    "    documents = []\n",
    "    for file in files:\n",
    "        print(f\"Reading file: {file}\")\n",
    "        data = read_json(f\"{directory_path}/{file}\")\n",
    "        documents.extend(data)\n",
    "        print(f\"Fetched {len(documents)} documents\")\n",
    "    return documents\n",
    "\n",
    "\n",
    "def setup_elasticsearch(index_name, model, url_es=\"http://localhost:9200\"):\n",
    "    print(\"Setting up Elasticsearch...\")\n",
    "    es_client = Elasticsearch(url_es)\n",
    "\n",
    "    index_settings = {\n",
    "        \"settings\": {\"number_of_shards\": 1, \"number_of_replicas\": 0},\n",
    "        \"mappings\": {\n",
    "            \"properties\": {\n",
    "                \"doc_id\": {\"type\": \"keyword\"},\n",
    "                \"page_num\": {\"type\": \"integer\"},\n",
    "                \"chunk_id\": {\"type\": \"keyword\"},\n",
    "                \"text\": {\"type\": \"text\"},\n",
    "                \"text_vector\": {\n",
    "                    \"type\": \"dense_vector\",\n",
    "                    \"dims\": model.get_sentence_embedding_dimension(),\n",
    "                    \"index\": True,\n",
    "                    \"similarity\": \"cosine\",\n",
    "                },\n",
    "            }\n",
    "        },\n",
    "    }\n",
    "\n",
    "    es_client.indices.delete(index=index_name, ignore_unavailable=True)\n",
    "    es_client.indices.create(index=index_name, body=index_settings)\n",
    "    print(f\"Elasticsearch index '{index_name}' created\")\n",
    "    return es_client\n",
    "\n",
    "\n",
    "def index_documents(es_client, documents, model, index_name):\n",
    "    print(\"Indexing documents...\")\n",
    "    for doc in tqdm(documents):\n",
    "        doc[\"text_vector\"] = model.encode(doc[\"text\"]).tolist()\n",
    "        es_client.index(index=index_name, document=doc)\n",
    "    print(f\"Indexed {len(documents)} documents\")\n",
    "\n",
    "\n",
    "def init_elasticsearch(model_name, index_name):\n",
    "    model = load_mode(model_name)\n",
    "    documents = fetch_documents()\n",
    "    es_client = setup_elasticsearch(index_name, model)\n",
    "    index_documents(es_client, documents, model, index_name)"
   ]
  },
  {
   "cell_type": "code",
   "execution_count": 12,
   "metadata": {},
   "outputs": [
    {
     "name": "stdout",
     "output_type": "stream",
     "text": [
      "Loading model: all-MiniLM-L6-v2\n",
      "Fetching documents...\n",
      "Reading file: Cityphilia-and-cityphobia--A-multi-scalar-search-for_2024_Journal-of-Urban-M.json\n",
      "Fetched 60 documents\n",
      "Reading file: How-do-local-governments-respond-to-central-mandate-in-affo_2024_Journal-of-.json\n",
      "Fetched 113 documents\n",
      "Reading file: Inclusive-cities--Less-crime-requires-more-lo_2024_Journal-of-Urban-Manageme.json\n",
      "Fetched 118 documents\n",
      "Reading file: sideris_gonzales_ong.json\n",
      "Fetched 171 documents\n",
      "Reading file: The_High_Cost_of_Free_Parking.json\n",
      "Fetched 190 documents\n",
      "Setting up Elasticsearch...\n",
      "Elasticsearch index 'esearchtext_model_all-minilm-l6-v2' created\n",
      "Indexing documents...\n"
     ]
    },
    {
     "name": "stderr",
     "output_type": "stream",
     "text": [
      "100%|██████████| 190/190 [00:06<00:00, 29.23it/s]"
     ]
    },
    {
     "name": "stdout",
     "output_type": "stream",
     "text": [
      "Indexed 190 documents\n"
     ]
    },
    {
     "name": "stderr",
     "output_type": "stream",
     "text": [
      "\n"
     ]
    }
   ],
   "source": [
    "init_elasticsearch(model_transformer, \"esearchtext_model_all-minilm-l6-v2\")"
   ]
  },
  {
   "cell_type": "code",
   "execution_count": 21,
   "metadata": {},
   "outputs": [],
   "source": [
    "ground_truth = pd.read_csv(\"../data_output/ground-truth-retrieval.csv\")\n",
    "ground_truth = ground_truth.to_dict(orient=\"records\")\n",
    "ground_truth = ground_truth[:25]"
   ]
  },
  {
   "cell_type": "code",
   "execution_count": 14,
   "metadata": {},
   "outputs": [],
   "source": [
    "def load_model_generation():\n",
    "    if torch.cuda.is_available():\n",
    "        device = \"cuda\"\n",
    "    else:\n",
    "        device = \"cpu\"\n",
    "\n",
    "    model = AutoModelForCausalLM.from_pretrained(\n",
    "        \"meta-llama/Llama-3.2-1B-Instruct\",\n",
    "        device_map=device,\n",
    "        torch_dtype=\"auto\",\n",
    "        trust_remote_code=True,\n",
    "        token=HUGGINGFACE_API,\n",
    "    )\n",
    "    tokenizer = AutoTokenizer.from_pretrained(\n",
    "        \"meta-llama/Llama-3.2-1B-Instruct\",\n",
    "        token=HUGGINGFACE_API,\n",
    "    )\n",
    "    pipe = pipeline(\n",
    "        \"text-generation\",\n",
    "        model=model,\n",
    "        tokenizer=tokenizer,\n",
    "    )\n",
    "    return pipe"
   ]
  },
  {
   "cell_type": "code",
   "execution_count": 15,
   "metadata": {},
   "outputs": [],
   "source": [
    "def elastic_search_knn(\n",
    "    field,\n",
    "    vector,\n",
    "    # course,\n",
    "    index_name,\n",
    "):\n",
    "    es_client = Elasticsearch(\"http://localhost:9200\")\n",
    "\n",
    "    knn = {\n",
    "        \"field\": field,\n",
    "        \"query_vector\": vector,\n",
    "        \"k\": 5,\n",
    "        \"num_candidates\": 10000,\n",
    "        # \"filter\": {\"term\": {\"course\": course}},\n",
    "    }\n",
    "\n",
    "    search_query = {\n",
    "        \"knn\": knn,\n",
    "        \"_source\": [\"doc_id\", \"page_num\", \"chunk_id\", \"text\"],\n",
    "    }\n",
    "\n",
    "    es_results = es_client.search(index=index_name, body=search_query)\n",
    "\n",
    "    return [hit[\"_source\"] for hit in es_results[\"hits\"][\"hits\"]]"
   ]
  },
  {
   "cell_type": "code",
   "execution_count": 16,
   "metadata": {},
   "outputs": [],
   "source": [
    "def build_prompt(query, search_results):\n",
    "    prompt_template = \"\"\"\n",
    "As a housing policy expert advising policymakers, answer the QUESTION below using only the verified information provided in the CONTEXT. \n",
    "Maintain a neutral, factual tone, and avoid assumptions or extrapolations beyond the CONTEXT. \n",
    "Structure your response with a brief summary of pros and cons to support balanced decision-making, and keep the response not more that 30 words.\n",
    "\n",
    "QUESTION: {question}\n",
    "\n",
    "CONTEXT:\n",
    "{context}\n",
    "\"\"\".strip()\n",
    "\n",
    "    context = \"\\n\\n\".join(\n",
    "        [f\"doc_id: {doc['doc_id']}\\nanswer: {doc['text']}\" for doc in search_results]\n",
    "    )\n",
    "    return prompt_template.format(question=query, context=context).strip()\n",
    "\n",
    "\n",
    "def llm(prompt, pipe_generation):\n",
    "    # return {\"answer\": \"test\", \"time\": 0.0}\n",
    "    start_time = time.time()\n",
    "    messages = [\n",
    "        {\"role\": \"user\", \"content\": prompt},\n",
    "    ]\n",
    "\n",
    "    eos_token_id = pipe_generation.tokenizer.eos_token_id\n",
    "\n",
    "    generation_args = {\n",
    "        \"max_new_tokens\": 500,\n",
    "        \"return_full_text\": False,\n",
    "        # \"temperature\": 0.0,\n",
    "        \"do_sample\": False,\n",
    "        \"pad_token_id\": eos_token_id,\n",
    "    }\n",
    "\n",
    "    output = pipe_generation(messages, **generation_args)\n",
    "\n",
    "    answer = output[0][\"generated_text\"].strip()\n",
    "\n",
    "    end_time = time.time()\n",
    "    response_time = end_time - start_time\n",
    "\n",
    "    return {\"answer\": answer, \"time\": response_time}"
   ]
  },
  {
   "cell_type": "code",
   "execution_count": 17,
   "metadata": {},
   "outputs": [
    {
     "name": "stdout",
     "output_type": "stream",
     "text": [
      "Loading model: all-MiniLM-L6-v2\n"
     ]
    }
   ],
   "source": [
    "model = load_mode(model_transformer)\n",
    "pipe_generation = load_model_generation()\n",
    "\n",
    "\n",
    "def rag(query):\n",
    "    search_results = elastic_search_knn(\n",
    "        \"text_vector\", model.encode(query), \"esearchtext_model_all-minilm-l6-v2\"\n",
    "    )\n",
    "    prompt = build_prompt(query, search_results)\n",
    "    return llm(prompt, pipe_generation)"
   ]
  },
  {
   "cell_type": "code",
   "execution_count": 22,
   "metadata": {},
   "outputs": [
    {
     "name": "stderr",
     "output_type": "stream",
     "text": [
      "  0%|          | 0/25 [00:00<?, ?it/s]d:\\Alonmar\\Documents\\pruebas\\public-policy-evaluation-assistant\\venv\\lib\\site-packages\\transformers\\generation\\configuration_utils.py:590: UserWarning: `do_sample` is set to `False`. However, `temperature` is set to `0.6` -- this flag is only used in sample-based generation modes. You should set `do_sample=True` or unset `temperature`.\n",
      "  warnings.warn(\n",
      "d:\\Alonmar\\Documents\\pruebas\\public-policy-evaluation-assistant\\venv\\lib\\site-packages\\transformers\\generation\\configuration_utils.py:595: UserWarning: `do_sample` is set to `False`. However, `top_p` is set to `0.9` -- this flag is only used in sample-based generation modes. You should set `do_sample=True` or unset `top_p`.\n",
      "  warnings.warn(\n",
      " 32%|███▏      | 8/25 [01:39<04:03, 14.35s/it]You seem to be using the pipelines sequentially on GPU. In order to maximize efficiency please use a dataset\n",
      "100%|██████████| 25/25 [04:36<00:00, 11.04s/it]\n"
     ]
    }
   ],
   "source": [
    "for row in tqdm(ground_truth):\n",
    "    row[\"gen_answer\"] = rag(row[\"question\"])[\"answer\"]"
   ]
  },
  {
   "cell_type": "code",
   "execution_count": 24,
   "metadata": {},
   "outputs": [
    {
     "data": {
      "text/plain": [
       "[{'id': 'Cityphilia-and-cityphobia--A-multi-scalar-search-for_2024_Journal-of-Urban-M_1_1',\n",
       "  'question': 'How do you think the concept of cityphobia can be used to inform policy decisions aimed at reducing urban poverty and inequality, particularly in areas with high levels of social exclusion?',\n",
       "  'gen_answer': \"**Summary of Pros and Cons:**\\n\\nTo inform policy decisions aimed at reducing urban poverty and inequality, using the concept of cityphobia can be beneficial. On the one hand, cityphobia can highlight the importance of love and attachment to one's living environment, which can lead to more inclusive and sustainable urban development. On the other hand, cityphobia can also be used to justify the need for more commercial housing and social services, potentially exacerbating existing inequalities.\\n\\n**Balanced Decision-Making:**\\n\\n* Cityphobia can emphasize the importance of love and attachment to one's living environment, leading to more inclusive and sustainable urban development.\\n* However, cityphobia can also be used to justify the need for more commercial housing and social services, potentially exacerbating existing inequalities.\\n* A balanced approach would consider both the benefits and drawbacks of cityphobia, and prioritize inclusive and sustainable urban development that addresses the needs of all residents.\"},\n",
       " {'id': 'Cityphilia-and-cityphobia--A-multi-scalar-search-for_2024_Journal-of-Urban-M_1_1',\n",
       "  'question': \"What role do you believe the 'body' component of city love should play in the development of policies aimed at promoting physical and mental well-being in urban areas?\",\n",
       "  'gen_answer': '**Summary of Pros and Cons:**\\n\\n**Pros:**\\n\\n1. The study aims to develop an operational framework for understanding citizens\\' appreciation and attachment to their living environment, which is a crucial aspect of urban well-being.\\n2. The researchers use a novel concept of \"city love\" to assess the determinants of residents\\' well-being, which is a promising approach for a comprehensive understanding of urban well-being perceptions.\\n3. The study explores the relationship between the tangible facets of urban life (body) and the intangible aspects of the city (soul), which is a key aspect of the \"cityphilia\" –\"cityphobia\" dichotomy.\\n\\n**Cons:**\\n\\n1. The study relies on subjective survey-based data, which may be subject to biases and limitations.\\n2. The researchers do not provide a clear definition of \"city love\" or its components, which may limit the generalizability of the findings.\\n3. The study does not account for potential confounding variables, such as socio-economic factors, which may influence residents\\' well-being perceptions.'},\n",
       " {'id': 'Cityphilia-and-cityphobia--A-multi-scalar-search-for_2024_Journal-of-Urban-M_1_1',\n",
       "  'question': \"How do you think the'soul' component of city love, encompassing social cohesion and community engagement, can be leveraged to enhance the resilience of urban communities in the face of economic and social challenges?\",\n",
       "  'gen_answer': \"**Summary of Pros and Cons:**\\n\\nPros:\\n\\n* The study aims to understand the determinants of urban well-being perceptions among citizens, providing a comprehensive understanding of the factors that shape city love.\\n* The concept of 'city love' offers a promising avenue for acomprehensive understanding of the determinants of urban well-being perceptions among citizens.\\n* The study leverages the concept of 'cityphilia' and 'cityphobia' as metaphors for the spatial attraction and repulsion forces that shape local quality of life.\\n\\nCons:\\n\\n* The study relies on subjective survey-based and objective data, which may be subject to biases and limitations.\\n* The study focuses on a specific region (Flanders, Belgium) and may not be generalizable to other regions or cities.\\n* The study does not account for the complex interplay between different factors that shape city love, such as governance, economic factors, and social capital.\"},\n",
       " {'id': 'Cityphilia-and-cityphobia--A-multi-scalar-search-for_2024_Journal-of-Urban-M_1_2',\n",
       "  'question': \"How do you respond to the argument that the 'city love' framework, which emphasizes the importance of central place systems in providing well-being services, may be overly simplistic or neglects the complexities of individual experiences in urban and rural settings?\",\n",
       "  'gen_answer': \"**Summary of Pros and Cons:**\\n\\n**Pros:**\\n\\n1. The 'city love' framework provides a comprehensive understanding of the determinants of urban well-being perceptions among citizens.\\n2. The study highlights the importance of both tangible and intangible aspects of urban life in shaping individual experiences.\\n3. The framework offers a promising avenue for a comprehensive understanding of urban well-being perceptions among citizens.\\n\\n**Cons:**\\n\\n1. The study's focus on a specific region (Flanders, Belgium) may limit its generalizability to other urban and rural settings.\\n2. The use of subjective survey-based and objective data may be subject to biases and limitations.\\n3. The study's operationalization of the 'city love' framework may be open to interpretation and require further refinement.\"},\n",
       " {'id': 'Cityphilia-and-cityphobia--A-multi-scalar-search-for_2024_Journal-of-Urban-M_1_2',\n",
       "  'question': 'What implications do you see for urban policy and management in light of the findings that local attractiveness and interdependence shape the well-being of residents in diverse urban and rural settings?',\n",
       "  'gen_answer': 'Summary of pros and cons:\\n\\n**Pros:**\\n\\n* The study highlights the importance of local attractiveness and interdependence in shaping the well-being of residents in diverse urban and rural settings.\\n* The concept of \"city love\" provides a useful framework for understanding the complex relationship between citizens and their urban living environments.\\n* The study\\'s findings have implications for urban policy and management, suggesting that cities should prioritize local attractiveness and interdependence in their development and management strategies.\\n\\n**Cons:**\\n\\n* The study\\'s focus on a specific geographic region (the \"urban century\") may limit its generalizability to other contexts.\\n* The use of a single measure of well-being (happiness) may not capture the full range of factors that contribute to residents\\' satisfaction with their urban living environments.\\n* The study\\'s reliance on a single theoretical framework (the \"city love\" concept) may not account for other important factors that influence residents\\' well-being.'},\n",
       " {'id': 'Cityphilia-and-cityphobia--A-multi-scalar-search-for_2024_Journal-of-Urban-M_1_2',\n",
       "  'question': \"How do you address the tension between the 'urban love' and 'cityphobia' sentiments, particularly in contexts where residents may feel disconnected from or alienated from their urban environment?\",\n",
       "  'gen_answer': \"To address the tension between 'urban love' and 'cityphobia', consider the following balanced decision-making points:\\n\\n**Pros of addressing the tension:**\\n\\n1. Enhance city attractiveness and quality of life for residents.\\n2. Foster a sense of community and social cohesion.\\n3. Promote sustainable and inclusive urban development.\\n\\n**Cons of addressing the tension:**\\n\\n1. Potential resistance from residents who feel disconnected or alienated from their urban environment.\\n2. Difficulty in measuring and quantifying the complex, multifaceted nature of city love.\\n3. Balancing individual preferences with the needs of the broader community.\"},\n",
       " {'id': 'Cityphilia-and-cityphobia--A-multi-scalar-search-for_2024_Journal-of-Urban-M_1_3',\n",
       "  'question': 'Can you provide more specific data on the current vacancy rate in the rental market in major Chinese cities, particularly in comparison to other major cities in the country?',\n",
       "  'gen_answer': '**Summary of Pros and Cons:**\\n\\n**Pros:**\\n\\n1. Provides specific data on the current vacancy rate in the rental market in major Chinese cities.\\n2. Offers insights into local compliance actions in responding to affordable housing mandates.\\n3. Utilizes content analysis to measure and characterize local response actions.\\n\\n**Cons:**\\n\\n1. The study focuses on 41 cities in 23 provinces, which may not be representative of the entire country.\\n2. The analysis is limited to municipal level data, which may not capture the full scope of local responses.\\n3. The study relies on newspaper reports, which may be subject to bias and selective reporting.'},\n",
       " {'id': 'Cityphilia-and-cityphobia--A-multi-scalar-search-for_2024_Journal-of-Urban-M_1_3',\n",
       "  'question': \"How do you think the government's recent policy initiatives to increase the supply of affordable housing will impact the demand for housing in the long term?\",\n",
       "  'gen_answer': \"**Summary of Pros and Cons:**\\n\\n**Pros:**\\n\\n1. **Increased supply of affordable housing**: Focusing on meeting targets within limited timeframes can lead to the construction of more affordable housing units.\\n2. **Improved housing quality**: Prioritizing housing quality can result in better living conditions for residents.\\n3. **Enhanced long-term institutions**: Investing in local institutions and capacity building can lead to more effective policy implementation.\\n\\n**Cons:**\\n\\n1. **Unintended consequences**: Top-down mandates can result in unmet policy objectives, resource wastage, and policy distortions.\\n2. **Quality of housing**: Focusing solely on quantity of construction may overlook the quality of housing provided.\\n3. **Resource diversion**: Focusing on short-term construction targets may divert resources away from local institutional and capacity building.\\n4. **External pressure**: Public dissatisfaction and societal concerns can influence local governments' actions when responding to policy mandates.\\n5. **Inequitable distribution**: Housing exclusion and uneven distribution of inclusionary affordable housing may occur.\\n\\n**Balanced Decision-Making:**\\n\\nTo ensure balanced decision-making, policymakers should consider a framework that encompasses a broad spectrum of local actions, including:\\n\\n1. **Hard targets**: Meeting specific targets within limited timeframes.\\n2. **Satisfactory policy outcomes**: Prioritizing policy effectiveness and quality.\\n3. **Improving local long-term institutions**: Investing in capacity building and local institutional development.\\n4. **Diverse policy actions**: Encouraging local governments to take proactive measures to address housing problems.\\n5. **Social pressure**: Considering the impact of public dissatisfaction and societal concerns on local policy implementation.\"},\n",
       " {'id': 'Cityphilia-and-cityphobia--A-multi-scalar-search-for_2024_Journal-of-Urban-M_1_3',\n",
       "  'question': 'What are the key factors that the government should consider when implementing a new rent control policy, and how can it balance the need to protect tenants with the need to control rent growth?',\n",
       "  'gen_answer': '**Summary of Pros and Cons:**\\n\\nTo balance the need to protect tenants with the need to control rent growth, the government should consider the following key factors when implementing a new rent control policy:\\n\\n1. **Housing quality and location**: Ensure that rent control policies prioritize housing quality and location to prevent rent increases in desirable areas.\\n2. **Rent control rates**: Set rent control rates that are reasonable and take into account the local cost of living.\\n3. **Duration of rent control**: Consider the duration of rent control policies to ensure they are effective in preventing rent increases.\\n4. **Monitoring and enforcement**: Establish clear monitoring and enforcement mechanisms to prevent rent increases and ensure compliance with rent control policies.\\n5. **Public awareness and education**: Educate the public about rent control policies and their impact on tenants to build trust and understanding.\\n\\n**Balanced Decision-Making:**\\n\\nBy considering these factors, the government can balance the need to protect tenants with the need to control rent growth, ultimately leading to more effective and sustainable rent control policies.'},\n",
       " {'id': 'Cityphilia-and-cityphobia--A-multi-scalar-search-for_2024_Journal-of-Urban-M_2_1',\n",
       "  'question': \"What are the primary drivers of the 'urban way of life' that policymakers should consider when designing urban policies?\",\n",
       "  'gen_answer': \"**Summary of Pros and Cons:**\\n\\nTo design urban policies effectively, policymakers should consider the following pros and cons:\\n\\n**Pros:**\\n\\n1. **Understanding the 'urban way of life'**: Policymakers can learn from the concept of 'urban way of life' introduced by Wirth, which emphasizes the importance of public goods and individual preferences in shaping cities' populations.\\n2. **Fostering sustainability and quality of life**: By considering the role of cities in a broader spatial network, policymakers can prioritize sustainability and quality of life, which are essential for attracting and retaining residents.\\n3. **Balancing 'cityphilia' and 'cityphobia'**: Achieving a balance between 'cityphilia' (love for cities) and 'cityphobia' (fear of cities) can create equilibrium, influencing the well-being of citizens and fostering vibrant, sustainable urban communities.\\n\\n**Cons:**\\n\\n1. **Complexity of urban governance**: Urban governance is a complex system, and policymakers must optimize the provision of public services, including location and accessibility, to achieve a balance between 'cityphilia' and 'cityphobia'.\\n2. **Interdependence of municipalities**: In an interdependent system of municipalities or cities, policymakers must consider the collective well-being of residents and the overall attractiveness of the urban system.\"},\n",
       " {'id': 'Cityphilia-and-cityphobia--A-multi-scalar-search-for_2024_Journal-of-Urban-M_2_1',\n",
       "  'question': 'How do cities balance the need for efficient public goods provision with the desire for individual preferences and local amenities?',\n",
       "  'gen_answer': \"**Summary of Pros and Cons:**\\n\\n**Pros:**\\n\\n1. Cities can balance the need for efficient public goods provision with individual preferences and local amenities.\\n2. A lower level of well-being or happiness without the ability to improve position on the well-being scale can be a desirable outcome.\\n3. Cities can foster sustainability and quality of life, as explored by various researchers.\\n\\n**Cons:**\\n\\n1. The 'foot voting' mechanism may lead to socio-economic sorting in different spatial jurisdictions due to competitive dynamics in the supply of local public goods.\\n2. The availability of local public goods and services may not align with individual preferences, leading to dissatisfaction and reduced subjective well-being.\\n3. The 'urban way of life' may be cherished by many despite concerns about urban livability and socioeconomic disparities.\"},\n",
       " {'id': 'Cityphilia-and-cityphobia--A-multi-scalar-search-for_2024_Journal-of-Urban-M_2_1',\n",
       "  'question': 'What role should cities play in promoting sustainability and quality of life in the context of rapid urbanization and technological advancements?',\n",
       "  'gen_answer': '**Summary of Pros and Cons:**\\n\\n**Pros:**\\n\\n1. Cities can provide diverse amenities, attracting residents who value such offerings highly.\\n2. Urban governance can optimize the provision of public services, including location and accessibility.\\n3. Achieving a balance between \"cityphilia\" (love for cities) and \"cityphobia\" (fear of cities) can create equilibrium, fostering vibrant, sustainable urban communities.\\n\\n**Cons:**\\n\\n1. Rapid urbanization and technological advancements may lead to increased competition for resources and services.\\n2. The \"city love\" framework may not account for the complexities of individual preferences and socioeconomic disparities.\\n3. The emphasis on cities as a fundamental anchor for examining well-being may overlook the role of other urban systems and networks.'},\n",
       " {'id': 'Cityphilia-and-cityphobia--A-multi-scalar-search-for_2024_Journal-of-Urban-M_2_2',\n",
       "  'question': 'How do cities balance the needs of their diverse populations, including low-income residents, with the demands of economic growth and development?',\n",
       "  'gen_answer': '**Summary of Pros and Cons:**\\n\\nTo balance the needs of diverse populations with economic growth and development, cities can:\\n\\n*   **Balance competing demands**: Cities can prioritize social welfare, economic growth, and environmental sustainability to create a balanced approach.\\n*   **Diversify their response**: Local governments can adopt different strategies to respond to central mandates, such as varying levels of fiscal capacity, social pressure, and overall urban development objectives.\\n*   **Consider spatial dependencies**: Cities can examine the interdependence of their spatial structure and the well-being of residents, which can inform their policy decisions.\\n\\n**Balanced Decision-Making:**\\n\\nBy considering these factors, cities can make more informed decisions that balance competing demands and promote sustainable development. This approach can help cities create vibrant, sustainable urban communities that cater to the diverse needs of their populations.'},\n",
       " {'id': 'Cityphilia-and-cityphobia--A-multi-scalar-search-for_2024_Journal-of-Urban-M_2_2',\n",
       "  'question': 'What role do social networks and community ties play in shaping individual and collective well-being within urban communities?',\n",
       "  'gen_answer': '**Summary of Pros and Cons:**\\n\\nPros:\\n\\n* The study highlights the importance of social networks and community ties in shaping individual and collective well-being within urban communities.\\n* The concept of \"city love\" provides a nuanced understanding of the complex, love-hate relationship citizens have with their multifaceted and diverse urban living environments.\\n* The study emphasizes the role of governance, social capital, and amenities in fostering well-being and happiness in urban areas.\\n\\nCons:\\n\\n* The study\\'s focus on individual-level factors may overlook the broader structural and spatial context of urban development.\\n* The use of a single measure of well-being (city love) may not capture the full range of factors that contribute to residents\\' satisfaction with their municipality.\\n* The study\\'s reliance on self-reported data may be subject to biases and limitations.'},\n",
       " {'id': 'Cityphilia-and-cityphobia--A-multi-scalar-search-for_2024_Journal-of-Urban-M_2_2',\n",
       "  'question': 'How do changes in local well-being conditions, such as those triggered by variations in amenities, influence resident mobility decisions?',\n",
       "  'gen_answer': 'Summary of pros and cons to support balanced decision-making:\\n\\n**Pros:**\\n\\n1. Recognizes the importance of local well-being conditions in influencing resident mobility decisions.\\n2. Highlights the need to consider the spatial context in shaping well-being.\\n3. Provides a framework for analyzing the attributes of a city that incorporate spatial dependencies.\\n\\n**Cons:**\\n\\n1. The study focuses on the relationship between local well-being conditions and resident mobility decisions, rather than exploring the underlying causes.\\n2. The research relies on a single case study (Flanders, Belgium) and may not be generalizable to other regions or contexts.\\n3. The study does not provide a comprehensive analysis of the factors that influence city love, and more research is needed to fully understand the concept.'},\n",
       " {'id': 'Cityphilia-and-cityphobia--A-multi-scalar-search-for_2024_Journal-of-Urban-M_2_3',\n",
       "  'question': 'How do you think the central place theory applies to the delivery of public services such as healthcare, education, and urban green spaces, particularly in areas with significant disparities in service quality?',\n",
       "  'gen_answer': \"**Summary of Pros and Cons:**\\n\\n**Pros:**\\n\\n1. Christaller's central place theory provides a framework for understanding the distribution of public services in a hierarchical spatial structure.\\n2. Tiebout's theory highlights the importance of local attractiveness and interdependence in determining residential satisfaction.\\n3. The study demonstrates the applicability of Christaller's central place theory to public services such as healthcare, education, and urban green spaces.\\n\\n**Cons:**\\n\\n1. The theory assumes a static, equilibrium hexagonal configuration, which may not accurately reflect the complexities of modern urban systems.\\n2. The theory neglects the role of private goods and services, which can influence locational perceptions and choices.\\n3. The study's focus on a specific geographic area (Los Angeles transit neighborhoods) may not be representative of broader urban systems.\"},\n",
       " {'id': 'Cityphilia-and-cityphobia--A-multi-scalar-search-for_2024_Journal-of-Urban-M_2_3',\n",
       "  'question': 'What factors, in addition to the value for money, should policymakers consider when evaluating the desirability of a particular location for public service delivery?',\n",
       "  'gen_answer': \"**Summary of Pros and Cons:**\\n\\n**Pros:**\\n\\n1. Tiebout's theory suggests that individuals may opt to move to a more favorable location to enhance their utility, aligning with their preferences.\\n2. The theory provides a fundamental anchor for examining the well-being of citizens within a multi-scalar urban system.\\n3. The theory highlights the importance of considering the value for money concerning goods or services in a given location.\\n\\n**Cons:**\\n\\n1. The theory neglects the basket of complementary private goods, offered at different prices and in different locations, which also inﬂuence locational perceptions and choices.\\n2. The theory overlooks the Christallerian framework of hierarchically provided amenities in geographical space, taking into consideration distance frictions.\\n3. The theory does not account for the socio-economic and jurisdictional constellations yielding distinct inter-urban patterns.\\n4. The theory neglects the tensions and shortages in local housing markets, which can impede free mobility.\\n5. The theory does not consider the role of central place theory in comprehending hierarchically structured spatial settlements and service systems.\"},\n",
       " {'id': 'Cityphilia-and-cityphobia--A-multi-scalar-search-for_2024_Journal-of-Urban-M_2_3',\n",
       "  'question': \"How might the concept of 'frictional costs' influence the decision-making process of individuals seeking to relocate to a new location for public services, and what implications does this have for policymakers?\",\n",
       "  'gen_answer': \"Summary of pros and cons to support balanced decision-making:\\n\\n**Pros:**\\n\\n* The concept of 'frictional costs' can help policymakers understand the importance of balancing public services with individual preferences and needs.\\n* It can inform decisions on relocation and urban planning, considering factors like accessibility, affordability, and quality of life.\\n\\n**Cons:**\\n\\n* The 'foot voting' mechanism, which assumes that residents will choose the location with the best public goods, may not accurately reflect individual preferences.\\n* The Christallerian framework, which emphasizes the importance of local public goods, may not account for the role of private goods and services in shaping locational perceptions.\\n* The oversupply of free parking can lead to increased air pollution, higher oil consumption, traffic congestion, and sprawl, which can have negative impacts on urban areas.\"},\n",
       " {'id': 'Cityphilia-and-cityphobia--A-multi-scalar-search-for_2024_Journal-of-Urban-M_2_4',\n",
       "  'question': \"How do you address the issue of 'foot voting' in the context of local public goods, particularly when it comes to housing markets?\",\n",
       "  'gen_answer': \"To address the issue of 'foot voting' in local public goods, particularly in housing markets, policymakers can consider the following balanced decision-making approach:\\n\\n**Pros:**\\n\\n* Recognize the restrictive assumptions underlying the 'foot voting' mechanism, such as the availability of local public goods and Christallerian framework of hierarchically provided amenities.\\n* Consider the basket of complementary private goods offered at different prices and in different locations, which can influence locational perceptions and choices.\\n* Analyze the Tieboutian world, where the supply of local public goods occurs through a bundle of amenities that may not be individuallyized and located in immediate proximity.\\n* Examine the social pressure from public demand, which can influence local governments' actions when responding to policy mandates.\\n\\n**Cons:**\\n\\n* The 'foot voting' mechanism neglects significant tensions and shortages in local housing markets, which can impede free mobility.\\n* The research on affordable housing policy development has highlighted financial issues as a significant reason for non-compliance by local governments, which may not be directly applicable to the 'foot voting' mechanism.\"},\n",
       " {'id': 'Cityphilia-and-cityphobia--A-multi-scalar-search-for_2024_Journal-of-Urban-M_2_4',\n",
       "  'question': \"What role do you think the concept of 'captive residents' plays in the decision-making process of individuals considering relocation?\",\n",
       "  'gen_answer': \"**Summary of Pros and Cons:**\\n\\n**Pros:**\\n\\n* Captive residents may be forced to accept a lower level of well-being or happiness without the ability to improve their position on the well-being scale.\\n* Local governments' responses to housing mandates can impact the living experiences of beneficiaries, influencing policy outcomes.\\n\\n**Cons:**\\n\\n* The 'foot voting' mechanism is based on restrictive assumptions, neglecting the availability of local public goods and Christallerian framework of hierarchically provided amenities.\\n* The 'foot voting' mechanism overlooks the basket of complementary private goods offered at different prices and in different locations.\\n* Local governments' responses to housing mandates may be influenced by social, political, and cultural factors, leading to inconsistent policy outcomes.\"},\n",
       " {'id': 'Cityphilia-and-cityphobia--A-multi-scalar-search-for_2024_Journal-of-Urban-M_2_4',\n",
       "  'question': \"How do you propose to mitigate the negative impacts of the 'foot voting' mechanism on socio-economic sorting in different spatial jurisdictions?\",\n",
       "  'gen_answer': \"To mitigate the negative impacts of the 'foot voting' mechanism on socio-economic sorting in different spatial jurisdictions, policymakers can consider the following strategies:\\n\\n*   **Promote regional integration**: Encourage municipalities to collaborate and share resources, such as housing, public goods, and services, to create a more cohesive and attractive region.\\n*   **Invest in local public goods**: Allocate sufficient funding for local public goods, including amenities, services, and infrastructure, to improve the quality of life in different spatial jurisdictions.\\n*   **Foster a sense of community**: Encourage residents to engage in local activities, socialize, and build relationships with their neighbors to create a sense of community and shared identity.\\n*   **Address regional disparities**: Address regional disparities in access to resources, services, and opportunities to reduce the attractiveness of certain areas and promote more equitable development.\\n*   **Encourage migration**: Provide incentives for residents to migrate to areas with better access to local public goods and services, while also offering support for those who choose to stay in their current location.\"},\n",
       " {'id': 'Cityphilia-and-cityphobia--A-multi-scalar-search-for_2024_Journal-of-Urban-M_2_5',\n",
       "  'question': 'How do you think policymakers can balance the need to attract new residents with the potential for existing residents to remain in their current neighborhoods, given the potential for dissatisfaction with local amenities to lead to reduced subjective well-being?',\n",
       "  'gen_answer': \"Here's a balanced response to the question:\\n\\n**Summary of Pros and Cons:**\\n\\n**Pros:**\\n\\n1. Attracting new residents can lead to increased economic growth and development, but existing residents may remain in their current neighborhoods due to dissatisfaction with local amenities.\\n2. Existing residents may be more likely to remain in their current neighborhoods if they are satisfied with their local living environment.\\n3. A new conceptual framework based on local well-being or happiness research can provide a more nuanced understanding of the relationship between residents and their local amenities.\\n\\n**Cons:**\\n\\n1. Existing residents may be more resistant to change and relocation due to concerns about job opportunities, education, or aging.\\n2. The relationship between residents and local amenities is complex and influenced by various factors, including social, political, and cultural context.\\n3. A new conceptual framework may not fully capture the nuances of the relationship between residents and local amenities, and may oversimplify the complex factors at play.\\n\\n**Balanced Decision-Making:**\\n\\n1. Policymakers should consider the potential benefits and drawbacks of attracting new residents and retaining existing residents, and weigh these factors against the potential impact on local well-being and happiness.\\n2. A new conceptual framework based on local well-being or happiness research can provide a more nuanced understanding of the relationship between residents and local amenities, and help policymakers make more informed decisions.\\n3. Policymakers should also consider the social, political, and cultural context in which residents live, and be aware of the potential for existing residents to be more resistant to change and relocation.\"},\n",
       " {'id': 'Cityphilia-and-cityphobia--A-multi-scalar-search-for_2024_Journal-of-Urban-M_2_5',\n",
       "  'question': \"What role do you think education and job opportunities play in influencing an individual's decision to relocate, and how can policymakers address the potential barriers to these opportunities in their local areas?\",\n",
       "  'gen_answer': \"**Summary of Pros and Cons:**\\n\\n**Pros:**\\n\\n1. Education and job opportunities play a crucial role in influencing an individual's decision to relocate, as they can impact the quality of life, economic stability, and social mobility.\\n2. Local governments can respond to central mandates by implementing policies that address housing production, quality, location, and management, which can lead to more inclusive and sustainable communities.\\n3. Qualitative research can provide rich, detailed ethnographic accounts of neighborhood change, allowing for a more nuanced understanding of the complex factors influencing relocation decisions.\\n\\n**Cons:**\\n\\n1. The effectiveness of these mandates can be hindered by housing exclusion, uneven distribution of inclusionary affordable housing, and symbolic implementation.\\n2. Local governments may struggle to respond effectively to housing mandates due to limited resources, conflicting priorities, and biases in their decision-making processes.\\n3. The complexity of housing policy can make it challenging to establish a comprehensive conceptual framework for local actions in response to housing mandates.\"},\n",
       " {'id': 'Cityphilia-and-cityphobia--A-multi-scalar-search-for_2024_Journal-of-Urban-M_2_5',\n",
       "  'question': 'How can policymakers effectively assess the satisfaction of local amenities and services, particularly in light of the limitations of empirical contentment or happiness research in capturing the nuances of individual experiences?',\n",
       "  'gen_answer': \"**Summary of Pros and Cons:**\\n\\nTo effectively assess the satisfaction of local amenities and services, policymakers should:\\n\\n* Use empirical contentment or happiness research to capture the nuances of individual experiences.\\n* Assess local amenities and services through spatial dependencies to examine multi-scalar effects on residential satisfaction.\\n* Consider the role of governance, social fabric, and social capital in shaping residents' well-being.\\n* Evaluate the impact of local taxes, public goods, and housing markets on residents' satisfaction.\\n\\n**Balanced Decision-Making:**\\n\\n* Empirical contentment or happiness research provides a more accurate representation of individual experiences.\\n* Assessing local amenities and services through spatial dependencies helps to identify multi-scalar effects.\\n* Considering governance, social fabric, and social capital is crucial in shaping residents' well-being.\\n* Evaluating the impact of local taxes, public goods, and housing markets is essential in understanding the role of amenities in residents' satisfaction.\"},\n",
       " {'id': 'Cityphilia-and-cityphobia--A-multi-scalar-search-for_2024_Journal-of-Urban-M_2_6',\n",
       "  'question': 'How do you think the $320,000 budget for affordable housing in the report by Kourtit et al. aligns with the empirical evidence suggesting that housing is a key driver of happiness and well-being?',\n",
       "  'gen_answer': '**Summary of Pros and Cons:**\\n\\n**Pros:**\\n\\n* The report by Kourtit et al. suggests that housing is a key driver of happiness and well-being, which aligns with empirical evidence.\\n* The report provides a comprehensive framework for assessing well-being, including concepts such as happiness, life satisfaction, and quality of life.\\n* The literature review highlights the importance of considering multiple facets of housing policy, including housing quality, location, and management.\\n\\n**Cons:**\\n\\n* The report\\'s focus on empirical contentment or happiness research may not be sufficient to inform policy decisions.\\n* The literature review does not provide a comprehensive conceptual framework for local actions in response to housing mandates.\\n* The report\\'s methodological framing of the \"city love\" concept is limited to a single study and may not be representative of the broader field.'}]"
      ]
     },
     "execution_count": 24,
     "metadata": {},
     "output_type": "execute_result"
    }
   ],
   "source": [
    "ground_truth"
   ]
  },
  {
   "cell_type": "code",
   "execution_count": null,
   "metadata": {},
   "outputs": [],
   "source": []
  },
  {
   "cell_type": "code",
   "execution_count": null,
   "metadata": {},
   "outputs": [],
   "source": []
  },
  {
   "cell_type": "code",
   "execution_count": null,
   "metadata": {},
   "outputs": [],
   "source": []
  },
  {
   "cell_type": "code",
   "execution_count": null,
   "metadata": {},
   "outputs": [],
   "source": []
  },
  {
   "cell_type": "code",
   "execution_count": null,
   "metadata": {},
   "outputs": [],
   "source": [
    "def evalation_rag(ground_truth):\n",
    "    def build_prompt_template(question, gen_answer):\n",
    "        prompt_template = \"\"\"\n",
    "You are an expert evaluator for a Retrieval-Augmented Generation (RAG) system. \n",
    "You task is to analyse the relevance of de answer to the question and context provided.\n",
    "The answer try to repond like a housing policy expert.\n",
    "Based on the relevance of the answer, you have to classify it as \"NON_RELEVANT\", \"PARTLY_RELEVANT\", or \"RELEVANT\".\n",
    "\n",
    "Here is the data for evaluation:\n",
    "\n",
    "QUESTION: {question}\n",
    "\n",
    "GENERATED ANSWER:\n",
    "{gen_answer}\n",
    "\n",
    "Return the output in a well-formed JSON format without code blocks.\n",
    "\n",
    "{{\n",
    "    RELEVANCE: \"NON_RELEVANT\" | \"RELEVANT\" | \"HIGHLY_RELEVANT\"\n",
    "    Explanation: \"[Provide a brief explanation of your decision]\"\n",
    "}}\n",
    "\"\"\".strip()\n",
    "\n",
    "        return prompt_template.format(question=question, gen_answer=gen_answer).strip()\n",
    "\n",
    "    status_list = []\n",
    "    for ground_truth_row in tqdm(ground_truth):\n",
    "        prompt = build_prompt_template(\n",
    "            ground_truth_row[\"question\"], ground_truth_row[\"gen_answer\"]\n",
    "        )\n",
    "        llm_output = llm(prompt, pipe_generation)[\"answer\"]\n",
    "        try:\n",
    "            evaluation_result = json.loads(llm_output)\n",
    "        except json.JSONDecodeError:\n",
    "            evaluation_result = {\n",
    "                \"RELEVANCE\": \"ERROR\",\n",
    "                \"Explanation\": \"failed to parse JSON\",\n",
    "            }\n",
    "\n",
    "        if (\n",
    "            \"RELEVANCE\" not in evaluation_result\n",
    "            or \"Explanation\" not in evaluation_result\n",
    "        ):\n",
    "            evaluation_result = {\"RELEVANCE\": \"ERROR\", \"Explanation\": \"bad JSON format\"}\n",
    "\n",
    "        status_list.append(llm_output)"
   ]
  },
  {
   "cell_type": "code",
   "execution_count": 57,
   "metadata": {},
   "outputs": [],
   "source": [
    "def build_prompt_eval(question, gen_answer):\n",
    "    prompt_template = \"\"\"\n",
    "You are an expert evaluator for a Retrieval-Augmented Generation (RAG) system. \n",
    "You task is to analyse the relevance of de answer to the question and context provided.\n",
    "The answer try to repond like a housing policy expert.\n",
    "Based on the relevance of the answer, you have to classify it as \"NON_RELEVANT\", \"PARTLY_RELEVANT\", or \"RELEVANT\".\n",
    "\n",
    "Here is the data for evaluation:\n",
    "\n",
    "QUESTION: {question}\n",
    "\n",
    "GENERATED ANSWER:\n",
    "{gen_answer}\n",
    "\n",
    "Return the output in a well-formed JSON format without code blocks.\n",
    "\n",
    "{{\n",
    "    RELEVANCE: \"NON_RELEVANT\" | \"RELEVANT\" | \"HIGHLY_RELEVANT\"\n",
    "    Explanation: \"[Provide a brief explanation of your decision]\"\n",
    "}}\n",
    "\"\"\".strip()\n",
    "\n",
    "    return prompt_template.format(question=question, gen_answer=gen_answer).strip()"
   ]
  },
  {
   "cell_type": "code",
   "execution_count": 58,
   "metadata": {},
   "outputs": [
    {
     "name": "stderr",
     "output_type": "stream",
     "text": [
      "  0%|          | 0/25 [00:00<?, ?it/s]d:\\Alonmar\\Documents\\pruebas\\public-policy-evaluation-assistant\\venv\\lib\\site-packages\\transformers\\generation\\configuration_utils.py:590: UserWarning: `do_sample` is set to `False`. However, `temperature` is set to `0.6` -- this flag is only used in sample-based generation modes. You should set `do_sample=True` or unset `temperature`.\n",
      "  warnings.warn(\n",
      "d:\\Alonmar\\Documents\\pruebas\\public-policy-evaluation-assistant\\venv\\lib\\site-packages\\transformers\\generation\\configuration_utils.py:595: UserWarning: `do_sample` is set to `False`. However, `top_p` is set to `0.9` -- this flag is only used in sample-based generation modes. You should set `do_sample=True` or unset `top_p`.\n",
      "  warnings.warn(\n",
      "100%|██████████| 25/25 [01:24<00:00,  3.38s/it]\n"
     ]
    }
   ],
   "source": [
    "status_list = []\n",
    "for ground_truth_row in tqdm(ground_truth):\n",
    "    prompt = build_prompt_eval(\n",
    "        ground_truth_row[\"question\"], ground_truth_row[\"gen_answer\"]\n",
    "    )\n",
    "    llm_output = llm(prompt, pipe_generation)[\"answer\"]\n",
    "    try:\n",
    "        evaluation_result = json.loads(llm_output)\n",
    "    except json.JSONDecodeError:\n",
    "        evaluation_result = {\n",
    "            \"RELEVANCE\": \"ERROR\",\n",
    "            \"Explanation\": \"failed to parse JSON\",\n",
    "        }\n",
    "\n",
    "    if \"RELEVANCE\" not in evaluation_result or \"Explanation\" not in evaluation_result:\n",
    "        evaluation_result = {\"RELEVANCE\": \"ERROR\", \"Explanation\": \"bad JSON format\"}\n",
    "\n",
    "    status_list.append(llm_output)"
   ]
  },
  {
   "cell_type": "code",
   "execution_count": 61,
   "metadata": {},
   "outputs": [
    {
     "name": "stderr",
     "output_type": "stream",
     "text": [
      "100%|██████████| 25/25 [00:00<00:00, 24989.90it/s]\n"
     ]
    }
   ],
   "source": [
    "full_load_json = []\n",
    "for i in tqdm(status_list):\n",
    "    load_json = json.loads(i)\n",
    "\n",
    "    full_load_json.append(load_json)\n",
    "    # if i[\"RELEVANCE\"] not in [\"NON_RELEVANT\", \"RELEVANT\", \"HIGHLY_RELEVANT\"]:\n",
    "    #    print(i)"
   ]
  },
  {
   "cell_type": "code",
   "execution_count": 66,
   "metadata": {},
   "outputs": [
    {
     "data": {
      "text/plain": [
       "RELEVANCE\n",
       "NON_RELEVANT    100.0\n",
       "Name: count, dtype: float64"
      ]
     },
     "execution_count": 66,
     "metadata": {},
     "output_type": "execute_result"
    },
    {
     "ename": "",
     "evalue": "",
     "output_type": "error",
     "traceback": [
      "\u001b[1;31mEl kernel se bloqueó al ejecutar código en la celda actual o en una celda anterior. \n",
      "\u001b[1;31mRevise el código de las celdas para identificar una posible causa del error. \n",
      "\u001b[1;31mHaga clic <a href='https://aka.ms/vscodeJupyterKernelCrash'>aquí</a> para obtener más información. \n",
      "\u001b[1;31mVea Jupyter <a href='command:jupyter.viewOutput'>log</a> para obtener más detalles."
     ]
    }
   ],
   "source": [
    "relevance_df = pd.DataFrame(full_load_json)\n",
    "relevance_df.value_counts(\"RELEVANCE\") / relevance_df.shape[0] * 100"
   ]
  },
  {
   "cell_type": "code",
   "execution_count": null,
   "metadata": {},
   "outputs": [],
   "source": []
  }
 ],
 "metadata": {
  "kernelspec": {
   "display_name": "venv",
   "language": "python",
   "name": "python3"
  },
  "language_info": {
   "codemirror_mode": {
    "name": "ipython",
    "version": 3
   },
   "file_extension": ".py",
   "mimetype": "text/x-python",
   "name": "python",
   "nbconvert_exporter": "python",
   "pygments_lexer": "ipython3",
   "version": "3.10.0"
  }
 },
 "nbformat": 4,
 "nbformat_minor": 2
}

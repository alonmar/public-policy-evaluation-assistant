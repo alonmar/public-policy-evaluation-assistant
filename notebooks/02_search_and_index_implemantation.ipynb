{
 "cells": [
  {
   "cell_type": "code",
   "execution_count": 22,
   "metadata": {},
   "outputs": [],
   "source": [
    "from sentence_transformers import SentenceTransformer\n",
    "from elasticsearch import Elasticsearch\n",
    "from dotenv import load_dotenv\n",
    "from transformers import (\n",
    "    pipeline,\n",
    "    AutoTokenizer,\n",
    "    AutoModelForCausalLM,\n",
    ")\n",
    "import json\n",
    "import os\n",
    "\n",
    "from tqdm.auto import tqdm\n",
    "import time\n",
    "import torch"
   ]
  },
  {
   "cell_type": "code",
   "execution_count": 2,
   "metadata": {},
   "outputs": [
    {
     "data": {
      "text/plain": [
       "True"
      ]
     },
     "execution_count": 2,
     "metadata": {},
     "output_type": "execute_result"
    }
   ],
   "source": [
    "load_dotenv()"
   ]
  },
  {
   "cell_type": "code",
   "execution_count": 3,
   "metadata": {},
   "outputs": [],
   "source": [
    "ELASTIC_URL = os.getenv(\"ELASTIC_URL_LOCAL\")\n",
    "MODEL_NAME = os.getenv(\"MODEL_NAME\")\n",
    "INDEX_NAME = os.getenv(\"INDEX_NAME\")\n",
    "HUGGINGFACE_API = os.getenv(\"HUGGINGFACE_API\")"
   ]
  },
  {
   "cell_type": "markdown",
   "metadata": {},
   "source": [
    "\n",
    "## Summary of [02_SEARCH_AND_INDEX_IMPLEMENTATION.ipynb](#file:02_search_and_index_implemantation.ipynb-context)\n",
    "\n",
    "This Jupyter Notebook demonstrates the process of setting up and utilizing a search and indexing system using Elasticsearch and Sentence Transformers. The workflow includes the following steps:\n",
    "\n",
    "1. **Importing Libraries**: Essential libraries such as `sentence_transformers`, `elasticsearch`, `dotenv`, `transformers`, `json`, `os`, `tqdm`, `time`, and `torch` are imported.\n",
    "\n",
    "2. **Loading Environment Variables**: Environment variables are loaded using `load_dotenv()` to retrieve configurations like `ELASTIC_URL`, `MODEL_NAME`, `INDEX_NAME`, and `HUGGINGFACE_API`.\n",
    "\n",
    "3. **Loading the Model**: A pre-trained SentenceTransformer model is loaded using the specified `MODEL_NAME`.\n",
    "\n",
    "4. **Fetching Documents**: JSON documents are fetched from a specified directory, read, and aggregated into a list.\n",
    "\n",
    "5. **Setting up Elasticsearch**: An Elasticsearch index is set up with specific settings and mappings, including properties for document ID, page number, chunk ID, text, and text vectors.\n",
    "\n",
    "6. **Indexing Documents**: The fetched documents are indexed into Elasticsearch. Each document's text is encoded into a dense vector using the SentenceTransformer model before indexing.\n",
    "\n",
    "7. **KNN Search in Elasticsearch**: A function is defined to perform a K-Nearest Neighbors (KNN) search in Elasticsearch using the encoded text vectors.\n",
    "\n",
    "8. **Building Prompts**: A prompt is constructed for querying the language model, incorporating the search results from Elasticsearch.\n",
    "\n",
    "9. **Loading a Language Model**: A language model is loaded from Hugging Face using the specified model name and device configuration (CPU or GPU).\n",
    "\n",
    "10. **Generating Responses**: The language model generates responses to the constructed prompts, and the response time is measured.\n",
    "\n",
    "11. **Displaying Results**: The generated answers and response times are printed for evaluation.\n",
    "\n",
    "This notebook provides a comprehensive guide to setting up a search and indexing system, integrating machine learning models for text encoding and generation, and utilizing Elasticsearch for efficient document retrieval.\n"
   ]
  },
  {
   "cell_type": "code",
   "execution_count": 4,
   "metadata": {},
   "outputs": [
    {
     "name": "stdout",
     "output_type": "stream",
     "text": [
      "Loading model: all-mpnet-base-v2\n"
     ]
    }
   ],
   "source": [
    "def load_mode():\n",
    "    \"\"\"\n",
    "    Loads a pre-trained SentenceTransformer model.\n",
    "\n",
    "    This function prints the name of the model being loaded and returns an instance of the SentenceTransformer\n",
    "    initialized with the specified model name.\n",
    "\n",
    "    Returns:\n",
    "        SentenceTransformer: An instance of the SentenceTransformer model.\n",
    "    \"\"\"\n",
    "    print(f\"Loading model: {MODEL_NAME}\")\n",
    "    return SentenceTransformer(MODEL_NAME)\n",
    "\n",
    "\n",
    "model = load_mode()"
   ]
  },
  {
   "cell_type": "code",
   "execution_count": 5,
   "metadata": {},
   "outputs": [
    {
     "name": "stdout",
     "output_type": "stream",
     "text": [
      "Fetching documents...\n",
      "Reading file: Cityphilia-and-cityphobia--A-multi-scalar-search-for_2024_Journal-of-Urban-M.json\n",
      "Fetched 60 documents\n",
      "Reading file: How-do-local-governments-respond-to-central-mandate-in-affo_2024_Journal-of-.json\n",
      "Fetched 113 documents\n",
      "Reading file: Inclusive-cities--Less-crime-requires-more-lo_2024_Journal-of-Urban-Manageme.json\n",
      "Fetched 118 documents\n",
      "Reading file: sideris_gonzales_ong.json\n",
      "Fetched 171 documents\n",
      "Reading file: The_High_Cost_of_Free_Parking.json\n",
      "Fetched 190 documents\n"
     ]
    }
   ],
   "source": [
    "def read_json(file_path):\n",
    "    with open(file_path, \"r\", encoding=\"utf-8\") as f:\n",
    "        data = json.load(f)\n",
    "    return data\n",
    "\n",
    "\n",
    "def fetch_documents():\n",
    "    \"\"\"\n",
    "    Fetches and reads JSON documents from a specified directory.\n",
    "\n",
    "    This function lists all files in the '../json_data' directory, reads each JSON file,\n",
    "    and aggregates the data into a single list of documents.\n",
    "\n",
    "    Returns:\n",
    "        list: A list containing all the documents read from the JSON files.\n",
    "    \"\"\"\n",
    "    print(\"Fetching documents...\")\n",
    "\n",
    "    directory_path = \"../json_data\"\n",
    "\n",
    "    # List all files in the directory\n",
    "    files = os.listdir(directory_path)\n",
    "\n",
    "    documents = []\n",
    "    for file in files:\n",
    "        print(f\"Reading file: {file}\")\n",
    "        data = read_json(f\"{directory_path}/{file}\")\n",
    "        documents.extend(data)\n",
    "        print(f\"Fetched {len(documents)} documents\")\n",
    "    return documents\n",
    "\n",
    "\n",
    "documents = fetch_documents()"
   ]
  },
  {
   "cell_type": "code",
   "execution_count": 16,
   "metadata": {},
   "outputs": [
    {
     "data": {
      "text/plain": [
       "190"
      ]
     },
     "execution_count": 16,
     "metadata": {},
     "output_type": "execute_result"
    }
   ],
   "source": [
    "len(documents)"
   ]
  },
  {
   "cell_type": "code",
   "execution_count": 21,
   "metadata": {},
   "outputs": [
    {
     "data": {
      "text/plain": [
       "{'doc_id': 'Cityphilia-and-cityphobia--A-multi-scalar-search-for_2024_Journal-of-Urban-M',\n",
       " 'page_num': 1,\n",
       " 'chunk_id': 'Cityphilia-and-cityphobia--A-multi-scalar-search-for_2024_Journal-of-Urban-M_1_1',\n",
       " 'text': \"Research Article Cityphilia and cityphobia: A multi-scalar search for city love in Flanders Karima Kourtita,b,c,*, Bart Neutsd, Peter Nijkampa,b,c, Marie H. Wahlstr €ome aOpen University, Heerlen, the Netherlands bAlexandru Ioan Cuza University, Iasi, Romania cUniversity of Rijeka, Rijeka, Croatia dKU Leuven, Leuven, Belgium eKTH, Stockholm, Sweden ARTICLE INFO Keywords: Well-being Happiness City loveSocial cohesionCentral place systemsInter-urban attractivenessABSTRACT Cities, towns, and rural areas form a complex spatial system in ﬂuenced by governance, economic factors, and the perceptions of their residents. This paper introduces the concepts of 'cityphilia' and 'cityphobia' as metaphors for the spatial attraction and repulsion forces that shape local quality of life. It aims to create and validate an operational framework for understanding citizens' appreci-ation and attachment to their living environment, often referred to as 'city love.' This framework considers two key components, 'body' and 'soul,' encompassing both physical and social aspects. Building upon Charles Tiebout's work on the competitive attractiveness of cities and aligning withcontemporary research on the geography of happiness, a conceptual model is developed and applied to identify and assess the components of city love using various indicators. These in- dicators encompass local attractiveness, local public expenditures, and inter-urban in-terdependencies. The model is empirically tested in the context of Flanders, Belgium, a regioncomprising 300 distinct municipalities, both urban and rural. A Beta regression model is employed, which incorporates spatial dependencies to examine multi-scalar effects on residential satisfaction. The results af ﬁrm the soundness of the 'city\"}"
      ]
     },
     "execution_count": 21,
     "metadata": {},
     "output_type": "execute_result"
    }
   ],
   "source": [
    "# Data to evaluate\n",
    "with open(\"../data_output/data_to_test.json\", \"w\", encoding=\"utf-8\") as f:\n",
    "    json.dump(documents[:50], f, ensure_ascii=False, indent=4)"
   ]
  },
  {
   "cell_type": "code",
   "execution_count": 6,
   "metadata": {},
   "outputs": [
    {
     "name": "stdout",
     "output_type": "stream",
     "text": [
      "Setting up Elasticsearch...\n",
      "Elasticsearch index 'housing-political-policy' created\n"
     ]
    }
   ],
   "source": [
    "def setup_elasticsearch():\n",
    "    \"\"\"\n",
    "    Sets up an Elasticsearch index with specified settings and mappings.\n",
    "\n",
    "    This function performs the following steps:\n",
    "    1. Connects to the Elasticsearch client using the provided ELASTIC_URL.\n",
    "    2. Defines the index settings, including the number of shards and replicas.\n",
    "    3. Defines the mappings for the index, specifying the data types and properties for each field.\n",
    "    4. Deletes the existing index if it exists.\n",
    "    5. Creates a new index with the defined settings and mappings.\n",
    "\n",
    "    Returns:\n",
    "        Elasticsearch: An instance of the Elasticsearch client connected to the created index.\n",
    "    \"\"\"\n",
    "    print(\"Setting up Elasticsearch...\")\n",
    "    es_client = Elasticsearch(ELASTIC_URL)\n",
    "\n",
    "    index_settings = {\n",
    "        \"settings\": {\"number_of_shards\": 1, \"number_of_replicas\": 0},\n",
    "        \"mappings\": {\n",
    "            \"properties\": {\n",
    "                \"doc_id\": {\"type\": \"keyword\"},\n",
    "                \"page_num\": {\"type\": \"integer\"},\n",
    "                \"chunk_id\": {\"type\": \"keyword\"},\n",
    "                \"text\": {\"type\": \"text\"},\n",
    "                \"text_vector\": {\n",
    "                    \"type\": \"dense_vector\",\n",
    "                    \"dims\": 768,\n",
    "                    \"index\": True,\n",
    "                    \"similarity\": \"cosine\",\n",
    "                },\n",
    "            }\n",
    "        },\n",
    "    }\n",
    "\n",
    "    es_client.indices.delete(index=INDEX_NAME, ignore_unavailable=True)\n",
    "    es_client.indices.create(index=INDEX_NAME, body=index_settings)\n",
    "    print(f\"Elasticsearch index '{INDEX_NAME}' created\")\n",
    "    return es_client\n",
    "\n",
    "\n",
    "es_client = setup_elasticsearch()"
   ]
  },
  {
   "cell_type": "code",
   "execution_count": 18,
   "metadata": {},
   "outputs": [
    {
     "name": "stdout",
     "output_type": "stream",
     "text": [
      "Indexing documents...\n"
     ]
    },
    {
     "name": "stderr",
     "output_type": "stream",
     "text": [
      "100%|██████████| 190/190 [00:54<00:00,  3.48it/s]"
     ]
    },
    {
     "name": "stdout",
     "output_type": "stream",
     "text": [
      "Indexed 190 documents\n"
     ]
    },
    {
     "name": "stderr",
     "output_type": "stream",
     "text": [
      "\n"
     ]
    }
   ],
   "source": [
    "def index_documents(es_client, documents, model):\n",
    "    print(\"Indexing documents...\")\n",
    "    for doc in tqdm(documents):\n",
    "        doc[\"text_vector\"] = model.encode(doc[\"text\"]).tolist()\n",
    "        es_client.index(index=INDEX_NAME, document=doc)\n",
    "    print(f\"Indexed {len(documents)} documents\")\n",
    "\n",
    "\n",
    "index_documents(es_client, documents, model)"
   ]
  },
  {
   "cell_type": "code",
   "execution_count": 7,
   "metadata": {},
   "outputs": [],
   "source": [
    "def elastic_search_knn(\n",
    "    field,\n",
    "    vector,\n",
    "    # course,\n",
    "    index_name=INDEX_NAME,\n",
    "):\n",
    "    knn = {\n",
    "        \"field\": field,\n",
    "        \"query_vector\": vector,\n",
    "        \"k\": 5,\n",
    "        \"num_candidates\": 10000,\n",
    "        # \"filter\": {\"term\": {\"course\": course}},\n",
    "    }\n",
    "\n",
    "    search_query = {\n",
    "        \"knn\": knn,\n",
    "        \"_source\": [\"doc_id\", \"page_num\", \"chunk_id\", \"text\"],\n",
    "    }\n",
    "\n",
    "    es_results = es_client.search(index=index_name, body=search_query)\n",
    "\n",
    "    return [hit[\"_source\"] for hit in es_results[\"hits\"][\"hits\"]]"
   ]
  },
  {
   "cell_type": "code",
   "execution_count": 9,
   "metadata": {},
   "outputs": [
    {
     "data": {
      "text/plain": [
       "[{'page_num': 16,\n",
       "  'text': 'residential gentrification- No commercial or residential gentrification- CBOs: Commercial and residential gentrification - Planners: No commercial gentrification; some residential gentrification 242 Journal of Planning Education and Research 39(2) References Barton, M. 2016. “An Exploration of the Importance of the Strategy Used to Identify Gentrification.” Urban Studies 53 (1): 92–111. Benton, C. R. 2014. “Exploring the Diversity of Gentrification in Three Chicago Cultural Districts—Differences in the Artist Class as First Wave Gentrifiers.” Unpublished dissertation. Department of Geography, Michigan State University. http:// search.proquest.com/docview/1612602607?accountid=14512 (accessed May 26, 2016). Berrey, E. C. 2005. “Divided over Diversity: Political Discourse in a Chicago Neighborhood.” City & Community 4 (2): 143–70. Betancur, J. J. 2002. “The Politics of Gentrification the Case of West Town in Chicago.” Urban Affairs Review 37 (6): 780–814. Bostic, R. W., and R. W. Martin. 2003. “Black Home-Owners as a Gentrifying Force? Neighbourhood Dynamics in the Context of Minority Home-Ownership.” Urban Studies 40 (12): 2427–49. Boyd, M. 2005. “The Downside of Racial Uplift: Meaning of Gentrification in an African American Neighborhood.” City & Society 17 (2): 265–88. Brown-Saracino, J. 2009. A Neighborhood That Never Changes: Gentrification, Social Preservation, and the Search for Authenticity. Chicago: University of Chicago Press. Chapple, K. 2009. Mapping Susceptibility to Gentrification: The Early Warning Toolkit. Berkeley, CA: Center for Community Innovation. Chapple, K., A. Loukaitou-Sideris, D. Chatman, P. Ong, and P. Wadell. 2017. Developing a New Methodology for Analyzing Potential Displacement. California Air Resources Board, Agreement No. 13-310. https://www.arb.ca.gov/research/apr/past/13-310.pdf',\n",
       "  'doc_id': 'sideris_gonzales_ong',\n",
       "  'chunk_id': 'sideris_gonzales_ong_16_1'},\n",
       " {'page_num': 1,\n",
       "  'text': 'https://doi.org/10.1177/0739456X17730890Journal of Planning Education and Research 2019, Vol. 39(2) 227 –242 © The Author(s) 2017Article reuse guidelines: sagepub.com/journals-permissions DOI: 10.1177/0739456X17730890 journals.sagepub.com/home/jpe Planning Research Introduction Since the term gentrification was first used by sociologist Ruth Glass (1964) in the mid-1960s, a rich literature has emerged of studies that seek to identify the magnitude of change and document its impact on gentrified neighbor - hoods. While these studies discuss mostly the processes and impacts of gentrification, we are not aware of studies that focus on the methodologies of studying gentrification. In general, a methodological dichotomy characterizes much of the existing gentrification literature, as studies are either quantitative, “macro” analyses or qualitative, “micro” inqui-ries of neighborhoods in the form of case studies (Hammel and Wyly 1996). But there is often a “disconnect” between quantitative and qualitative approaches that are designed to gather and analyze different types of data, and only few gen-trification studies adopt a mixed-methods approach. The presence or absence of gentrification is often hotly debated by residents, who experience impacts such as increased rents or store closures in their neighborhoods, and policy makers and academics, who use aggregate census data to document neighborhood change and may not see these impacts. This article seeks to show the importance of incor - porating knowledge from both quantitative and qualitative methods to study gentrification. But although utilization of both quantitative and qualitative methodologies can paint a richer picture of gentrification, planners and policy makers',\n",
       "  'doc_id': 'sideris_gonzales_ong',\n",
       "  'chunk_id': 'sideris_gonzales_ong_1_1'},\n",
       " {'page_num': 2,\n",
       "  'text': 'across neighbor - hoods in a metropolitan area because of spatial variations in these factors. An example is the geographic distribution of infrastructure investment such as the building of a transit station. Neighborhood change may have positive or negative effects for residents. Following suburbanization, deindustri-alization, and white flight after World War II, many inner-city neighborhoods in the United States witnessed negative change—sharp disinvestment and decline. Early studies of neighborhood change focused on such decline or “descent,” as well as disinvestment, demographic shifts, and discrimi-natory practices (Massey and Denton 1993). More recently, following investments to regenerate inner cities, some stud-ies have focused on the consequences of the upward trajec-tories of neighborhoods, or neighborhood “ascent” (Zuk et al. 2015). Gentrification is a commonly studied outcome of neigh- borhood ascent (Zuk et al. 2015). The influx of higher-income new residents may lead to displacement of existing residents. Finding data that allow for the simultaneous measurement of physical, cultural, economic, and demo-graphic shifts ensuing from gentrification, however, can be an arduous task (Benton 2014). Thus, much research has only measured the magnitude of particular aspects or impacts of gentrification (often housing and demographic shifts) and has relied heavily on the US census (Schwirian 1983), described as the “most comprehensive and comparable source of data” on neighborhood change (Hammel and Wyly 1996, 248). Most quantitative studies of gentrification have taken a “macro,” census-based approach (Hammel and Wyly 1996). Their focus has been the measurement of',\n",
       "  'doc_id': 'sideris_gonzales_ong',\n",
       "  'chunk_id': 'sideris_gonzales_ong_2_2'},\n",
       " {'page_num': 16,\n",
       "  'text': 'of Renewal: Housing Policy and the Resurgence of Gentrification.” Housing Policy Debate 10 (4): 711–71. Zuk, M., A. H. Bierbaum, K. Chapple, K. Gorska, A. Loukaitou- Sideris, P. Ong, and T. Thomas. 2015. Gentrification, Displacement and the Role of Public Investment: A Literature Review (No. 2015-55). Federal Reserve Bank of San Francisco. Author Biographies Anastasia Loukaitou-Sideris is a professor in the Department of Urban Planning and the Associate Provost for Academic Planning at UCLA. Her research interests include urban design, community development, and land use and transportation planning. Silvia Gonzalez is a doctoral student in the Department of Urban Planning at UCLA. Her research interests include community development and spatial and environmental justice. Paul Ong is a professor in the Department of Urban Planning and the Department of Asian American Studies at UCLA and the direc-tor of the Center for Neighborhood Knowledge at UCLA. His research interests include community and economic development, ethnic neighborhoods, and environmental justice.',\n",
       "  'doc_id': 'sideris_gonzales_ong',\n",
       "  'chunk_id': 'sideris_gonzales_ong_16_4'},\n",
       " {'page_num': 15,\n",
       "  'text': 'observations and stake-holder interviews complement each other and can give a more complete picture of neighborhood change brought about by gentrification. Acknowledgments We would like to acknowledge the support of the California Air Resources Board as well as Karen Chapple, Dan Chatman, Paul Waddell, and Miriam Zuk, who were members of the research team for the larger project. Declaration of Conflicting Interests The author(s) declared no potential conflicts of interest with respect to the research, authorship, and/or publication of this article. Funding The author(s) disclosed receipt of the following financial support for the research, authorship, and/or publication of this article: Research for this article was drawn from a larger research study which was funded by the California Air Resources Board. Supplemental Material Supplemental material for this article is available with the manu- script on the JPER website.Table 13. Assessment of Presence or Absence of Gentrification per Method per Neighborhood. Method Chinatown Hollywood/Western 103rd/Watts Mariachi Plaza Secondary data- No commercial gentrification - Some residential gentrification at neighborhood edge (half mile)- Commercial and residential gentrification only southwest of station- No commercial or residential gentrificationNo commercial or residential gentrification Visual survey- No commercial gentrification - Some residential gentrification within the quarter- and half-mile radius- Commercial and residential gentrification in a wider area- No commercial or residential gentrificationSigns of early residential and commercial gentrification Interviews - Residential gentrification; - Early signs of commercial gentrification- Both commercial and residential gentrification- No commercial or residential gentrification-',\n",
       "  'doc_id': 'sideris_gonzales_ong',\n",
       "  'chunk_id': 'sideris_gonzales_ong_15_3'}]"
      ]
     },
     "execution_count": 9,
     "metadata": {},
     "output_type": "execute_result"
    }
   ],
   "source": [
    "query = \"What is the gentrification of cities?\"\n",
    "vector = model.encode(query)\n",
    "search_results = elastic_search_knn(\"text_vector\", vector)\n",
    "search_results"
   ]
  },
  {
   "cell_type": "code",
   "execution_count": 23,
   "metadata": {},
   "outputs": [],
   "source": [
    "def build_prompt(query, search_results):\n",
    "    prompt_template = \"\"\"\n",
    "As a housing policy expert advising policymakers, answer the QUESTION below using only the verified information provided in the CONTEXT. \n",
    "Maintain a neutral, factual tone, and avoid assumptions or extrapolations beyond the CONTEXT. \n",
    "Structure your response with a brief summary of pros and cons to support balanced decision-making, and keep the response as concise as possible.\n",
    "\n",
    "QUESTION: {question}\n",
    "\n",
    "CONTEXT:\n",
    "{context}\n",
    "\"\"\".strip()\n",
    "\n",
    "    context = \"\\n\\n\".join(\n",
    "        [f\"doc_id: {doc['doc_id']}\\nanswer: {doc['text']}\" for doc in search_results]\n",
    "    )\n",
    "    return prompt_template.format(question=query, context=context).strip()"
   ]
  },
  {
   "cell_type": "code",
   "execution_count": 11,
   "metadata": {},
   "outputs": [
    {
     "data": {
      "text/plain": [
       "'As a housing policy expert advising policymakers, answer the QUESTION below using only the verified information provided in the CONTEXT. \\nMaintain a neutral, factual tone, and avoid assumptions or extrapolations beyond the CONTEXT. \\nStructure your response by outlining clear pros and cons to support balanced decision-making.\\n\\nQUESTION: What is the gentrification of cities?\\n\\nCONTEXT:\\ndoc_id: sideris_gonzales_ong\\nanswer: residential gentrification- No commercial or residential gentrification- CBOs: Commercial and residential gentrification - Planners: No commercial gentrification; some residential gentrification 242 Journal of Planning Education and Research 39(2) References Barton, M. 2016. “An Exploration of the Importance of the Strategy Used to Identify Gentrification.” Urban Studies 53 (1): 92–111. Benton, C. R. 2014. “Exploring the Diversity of Gentrification in Three Chicago Cultural Districts—Differences in the Artist Class as First Wave Gentrifiers.” Unpublished dissertation. Department of Geography, Michigan State University. http:// search.proquest.com/docview/1612602607?accountid=14512 (accessed May 26, 2016). Berrey, E. C. 2005. “Divided over Diversity: Political Discourse in a Chicago Neighborhood.” City & Community 4 (2): 143–70. Betancur, J. J. 2002. “The Politics of Gentrification the Case of West Town in Chicago.” Urban Affairs Review 37 (6): 780–814. Bostic, R. W., and R. W. Martin. 2003. “Black Home-Owners as a Gentrifying Force? Neighbourhood Dynamics in the Context of Minority Home-Ownership.” Urban Studies 40 (12): 2427–49. Boyd, M. 2005. “The Downside of Racial Uplift: Meaning of Gentrification in an African American Neighborhood.” City & Society 17 (2): 265–88. Brown-Saracino, J. 2009. A Neighborhood That Never Changes: Gentrification, Social Preservation, and the Search for Authenticity. Chicago: University of Chicago Press. Chapple, K. 2009. Mapping Susceptibility to Gentrification: The Early Warning Toolkit. Berkeley, CA: Center for Community Innovation. Chapple, K., A. Loukaitou-Sideris, D. Chatman, P. Ong, and P. Wadell. 2017. Developing a New Methodology for Analyzing Potential Displacement. California Air Resources Board, Agreement No. 13-310. https://www.arb.ca.gov/research/apr/past/13-310.pdf\\n\\ndoc_id: sideris_gonzales_ong\\nanswer: https://doi.org/10.1177/0739456X17730890Journal of Planning Education and Research 2019, Vol. 39(2) 227 –242 © The Author(s) 2017Article reuse guidelines: sagepub.com/journals-permissions DOI: 10.1177/0739456X17730890 journals.sagepub.com/home/jpe Planning Research Introduction Since the term gentrification was first used by sociologist Ruth Glass (1964) in the mid-1960s, a rich literature has emerged of studies that seek to identify the magnitude of change and document its impact on gentrified neighbor - hoods. While these studies discuss mostly the processes and impacts of gentrification, we are not aware of studies that focus on the methodologies of studying gentrification. In general, a methodological dichotomy characterizes much of the existing gentrification literature, as studies are either quantitative, “macro” analyses or qualitative, “micro” inqui-ries of neighborhoods in the form of case studies (Hammel and Wyly 1996). But there is often a “disconnect” between quantitative and qualitative approaches that are designed to gather and analyze different types of data, and only few gen-trification studies adopt a mixed-methods approach. The presence or absence of gentrification is often hotly debated by residents, who experience impacts such as increased rents or store closures in their neighborhoods, and policy makers and academics, who use aggregate census data to document neighborhood change and may not see these impacts. This article seeks to show the importance of incor - porating knowledge from both quantitative and qualitative methods to study gentrification. But although utilization of both quantitative and qualitative methodologies can paint a richer picture of gentrification, planners and policy makers\\n\\ndoc_id: sideris_gonzales_ong\\nanswer: across neighbor - hoods in a metropolitan area because of spatial variations in these factors. An example is the geographic distribution of infrastructure investment such as the building of a transit station. Neighborhood change may have positive or negative effects for residents. Following suburbanization, deindustri-alization, and white flight after World War II, many inner-city neighborhoods in the United States witnessed negative change—sharp disinvestment and decline. Early studies of neighborhood change focused on such decline or “descent,” as well as disinvestment, demographic shifts, and discrimi-natory practices (Massey and Denton 1993). More recently, following investments to regenerate inner cities, some stud-ies have focused on the consequences of the upward trajec-tories of neighborhoods, or neighborhood “ascent” (Zuk et al. 2015). Gentrification is a commonly studied outcome of neigh- borhood ascent (Zuk et al. 2015). The influx of higher-income new residents may lead to displacement of existing residents. Finding data that allow for the simultaneous measurement of physical, cultural, economic, and demo-graphic shifts ensuing from gentrification, however, can be an arduous task (Benton 2014). Thus, much research has only measured the magnitude of particular aspects or impacts of gentrification (often housing and demographic shifts) and has relied heavily on the US census (Schwirian 1983), described as the “most comprehensive and comparable source of data” on neighborhood change (Hammel and Wyly 1996, 248). Most quantitative studies of gentrification have taken a “macro,” census-based approach (Hammel and Wyly 1996). Their focus has been the measurement of\\n\\ndoc_id: sideris_gonzales_ong\\nanswer: of Renewal: Housing Policy and the Resurgence of Gentrification.” Housing Policy Debate 10 (4): 711–71. Zuk, M., A. H. Bierbaum, K. Chapple, K. Gorska, A. Loukaitou- Sideris, P. Ong, and T. Thomas. 2015. Gentrification, Displacement and the Role of Public Investment: A Literature Review (No. 2015-55). Federal Reserve Bank of San Francisco. Author Biographies Anastasia Loukaitou-Sideris is a professor in the Department of Urban Planning and the Associate Provost for Academic Planning at UCLA. Her research interests include urban design, community development, and land use and transportation planning. Silvia Gonzalez is a doctoral student in the Department of Urban Planning at UCLA. Her research interests include community development and spatial and environmental justice. Paul Ong is a professor in the Department of Urban Planning and the Department of Asian American Studies at UCLA and the direc-tor of the Center for Neighborhood Knowledge at UCLA. His research interests include community and economic development, ethnic neighborhoods, and environmental justice.\\n\\ndoc_id: sideris_gonzales_ong\\nanswer: observations and stake-holder interviews complement each other and can give a more complete picture of neighborhood change brought about by gentrification. Acknowledgments We would like to acknowledge the support of the California Air Resources Board as well as Karen Chapple, Dan Chatman, Paul Waddell, and Miriam Zuk, who were members of the research team for the larger project. Declaration of Conflicting Interests The author(s) declared no potential conflicts of interest with respect to the research, authorship, and/or publication of this article. Funding The author(s) disclosed receipt of the following financial support for the research, authorship, and/or publication of this article: Research for this article was drawn from a larger research study which was funded by the California Air Resources Board. Supplemental Material Supplemental material for this article is available with the manu- script on the JPER website.Table 13. Assessment of Presence or Absence of Gentrification per Method per Neighborhood. Method Chinatown Hollywood/Western 103rd/Watts Mariachi Plaza Secondary data- No commercial gentrification - Some residential gentrification at neighborhood edge (half mile)- Commercial and residential gentrification only southwest of station- No commercial or residential gentrificationNo commercial or residential gentrification Visual survey- No commercial gentrification - Some residential gentrification within the quarter- and half-mile radius- Commercial and residential gentrification in a wider area- No commercial or residential gentrificationSigns of early residential and commercial gentrification Interviews - Residential gentrification; - Early signs of commercial gentrification- Both commercial and residential gentrification- No commercial or residential gentrification-'"
      ]
     },
     "execution_count": 11,
     "metadata": {},
     "output_type": "execute_result"
    }
   ],
   "source": [
    "query = \"What is the gentrification of cities?\"\n",
    "search_results = elastic_search_knn(\"text_vector\", model.encode(query))\n",
    "prompt = build_prompt(query, search_results)\n",
    "prompt"
   ]
  },
  {
   "cell_type": "code",
   "execution_count": 24,
   "metadata": {},
   "outputs": [],
   "source": [
    "if torch.cuda.is_available():\n",
    "    device = \"cuda\"\n",
    "else:\n",
    "    device = \"cpu\"\n",
    "\n",
    "\n",
    "def model_from_huggingface(model_name, device):\n",
    "    model_generation = AutoModelForCausalLM.from_pretrained(\n",
    "        model_name,\n",
    "        device_map=device,\n",
    "        torch_dtype=\"auto\",\n",
    "        trust_remote_code=True,\n",
    "        token=HUGGINGFACE_API,\n",
    "    )\n",
    "    tokenizer_generation = AutoTokenizer.from_pretrained(\n",
    "        model_name,\n",
    "        token=HUGGINGFACE_API,\n",
    "    )\n",
    "\n",
    "    pipe_generation = pipeline(\n",
    "        \"text-generation\",\n",
    "        model=model_generation,\n",
    "        tokenizer=tokenizer_generation,\n",
    "    )\n",
    "\n",
    "    return pipe_generation\n",
    "\n",
    "\n",
    "pipe_generation = model_from_huggingface(\"meta-llama/Llama-3.2-1B-Instruct\", device)\n",
    "\n",
    "\n",
    "def llm(prompt):\n",
    "    start_time = time.time()\n",
    "    messages = [\n",
    "        {\"role\": \"user\", \"content\": prompt},\n",
    "    ]\n",
    "\n",
    "    eos_token_id = pipe_generation.tokenizer.eos_token_id\n",
    "\n",
    "    generation_args = {\n",
    "        \"max_new_tokens\": 500,\n",
    "        \"return_full_text\": False,\n",
    "        # \"temperature\": 0.0,\n",
    "        \"do_sample\": False,\n",
    "        \"pad_token_id\": eos_token_id,\n",
    "    }\n",
    "\n",
    "    output = pipe_generation(messages, **generation_args)\n",
    "\n",
    "    answer = output[0][\"generated_text\"].strip()\n",
    "\n",
    "    end_time = time.time()\n",
    "    response_time = end_time - start_time\n",
    "\n",
    "    return answer, response_time"
   ]
  },
  {
   "cell_type": "code",
   "execution_count": null,
   "metadata": {},
   "outputs": [
    {
     "name": "stderr",
     "output_type": "stream",
     "text": [
      "d:\\Alonmar\\Documents\\pruebas\\public-policy-evaluation-assistant\\venv\\lib\\site-packages\\transformers\\generation\\configuration_utils.py:590: UserWarning: `do_sample` is set to `False`. However, `temperature` is set to `0.6` -- this flag is only used in sample-based generation modes. You should set `do_sample=True` or unset `temperature`.\n",
      "  warnings.warn(\n",
      "d:\\Alonmar\\Documents\\pruebas\\public-policy-evaluation-assistant\\venv\\lib\\site-packages\\transformers\\generation\\configuration_utils.py:595: UserWarning: `do_sample` is set to `False`. However, `top_p` is set to `0.9` -- this flag is only used in sample-based generation modes. You should set `do_sample=True` or unset `top_p`.\n",
      "  warnings.warn(\n"
     ]
    },
    {
     "ename": "",
     "evalue": "",
     "output_type": "error",
     "traceback": [
      "\u001b[1;31mEl kernel se bloqueó al ejecutar código en la celda actual o en una celda anterior. \n",
      "\u001b[1;31mRevise el código de las celdas para identificar una posible causa del error. \n",
      "\u001b[1;31mHaga clic <a href='https://aka.ms/vscodeJupyterKernelCrash'>aquí</a> para obtener más información. \n",
      "\u001b[1;31mVea Jupyter <a href='command:jupyter.viewOutput'>log</a> para obtener más detalles."
     ]
    }
   ],
   "source": [
    "query = \"What is the gentrification of cities?\"\n",
    "search_results = elastic_search_knn(\"text_vector\", model.encode(query))\n",
    "prompt = build_prompt(query, search_results)\n",
    "answer, response_time = llm(prompt)"
   ]
  },
  {
   "cell_type": "code",
   "execution_count": 14,
   "metadata": {},
   "outputs": [
    {
     "data": {
      "text/plain": [
       "26.792170524597168"
      ]
     },
     "execution_count": 14,
     "metadata": {},
     "output_type": "execute_result"
    }
   ],
   "source": [
    "response_time"
   ]
  },
  {
   "cell_type": "code",
   "execution_count": 15,
   "metadata": {},
   "outputs": [
    {
     "name": "stdout",
     "output_type": "stream",
     "text": [
      "**Gentrification of Cities: A Balanced Approach**\n",
      "\n",
      "Gentrification is a complex and multifaceted phenomenon that affects urban neighborhoods in various ways. While some studies focus on the magnitude of gentrification, others emphasize the importance of incorporating qualitative methods to gain a more comprehensive understanding of the issue. Here are the pros and cons of adopting a balanced approach to studying gentrification:\n",
      "\n",
      "**Pros:**\n",
      "\n",
      "1. **Comprehensive understanding**: Incorporating both quantitative and qualitative methods can provide a more nuanced understanding of gentrification, allowing researchers to capture the complex interactions between physical, cultural, economic, and demographic shifts.\n",
      "2. **Improved data collection**: Visual surveys and interviews can complement each other, providing a more detailed picture of neighborhood change brought about by gentrification.\n",
      "3. **Increased accuracy**: Mixed-methods approaches can reduce the risk of biased or incomplete data, leading to a more accurate understanding of gentrification.\n",
      "4. **Enhanced stakeholder engagement**: Incorporating stakeholder interviews can help researchers better understand the perspectives and experiences of residents, policymakers, and other stakeholders involved in gentrification.\n",
      "5. **More representative samples**: Using a mixed-methods approach can increase the representativeness of the sample, allowing researchers to generalize findings to a broader population.\n",
      "\n",
      "**Cons:**\n",
      "\n",
      "1. **Increased complexity**: Adopting a mixed-methods approach can add complexity to the research design, making it more challenging to analyze and interpret the data.\n",
      "2. **Higher costs**: Conducting mixed-methods research can be more expensive than using a single methodology, particularly if the research involves multiple data collection methods.\n",
      "3. **Time-consuming**: Integrating multiple data collection methods can be time-consuming, requiring significant resources and effort.\n",
      "4. **Limited generalizability**: Mixed-methods research may not be as generalizable as single-method research, as the different data collection methods may not be equally representative of the population.\n",
      "5. **Potential for methodological limitations**: The use of multiple data collection methods can also introduce methodological limitations, such as the potential for biases or errors in data collection.\n",
      "\n",
      "**Balancing Act**\n",
      "\n",
      "To adopt a balanced approach to studying gentrification, researchers should:\n",
      "\n",
      "1. **Clearly define research questions**: Establish specific research questions and objectives to guide the mixed-methods design.\n",
      "2. **Choose complementary data collection methods**: Select data collection methods that complement each other, such as visual surveys and interviews.\n",
      "3. **Use robust data analysis techniques**: Apply robust data analysis techniques\n"
     ]
    }
   ],
   "source": [
    "print(answer)"
   ]
  },
  {
   "cell_type": "code",
   "execution_count": null,
   "metadata": {},
   "outputs": [],
   "source": []
  },
  {
   "cell_type": "code",
   "execution_count": null,
   "metadata": {},
   "outputs": [],
   "source": []
  }
 ],
 "metadata": {
  "kernelspec": {
   "display_name": "venv",
   "language": "python",
   "name": "python3"
  },
  "language_info": {
   "codemirror_mode": {
    "name": "ipython",
    "version": 3
   },
   "file_extension": ".py",
   "mimetype": "text/x-python",
   "name": "python",
   "nbconvert_exporter": "python",
   "pygments_lexer": "ipython3",
   "version": "3.10.0"
  }
 },
 "nbformat": 4,
 "nbformat_minor": 2
}
